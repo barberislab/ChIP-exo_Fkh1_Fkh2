{
 "cells": [
  {
   "cell_type": "code",
   "execution_count": null,
   "metadata": {
    "scrolled": false
   },
   "outputs": [],
   "source": [
    "import matplotlib.pyplot as plt\n",
    "import pandas as pd\n",
    "pd.set_option('display.max_columns', None)\n",
    "pd.set_option('display.max_colwidth', -1)\n",
    "pd.set_option('display.max_rows', 500)\n",
    "\n",
    "# SET PLOTTING SETTINGS\n",
    "SMALL_SIZE = 16\n",
    "MEDIUM_SIZE = 20\n",
    "BIGGER_SIZE = 24\n",
    "\n",
    "plt.rc('font', size=SMALL_SIZE)          # controls default text sizes\n",
    "plt.rc('axes', titlesize=BIGGER_SIZE)     # fontsize of the axes title\n",
    "plt.rc('axes', labelsize=BIGGER_SIZE)    # fontsize of the x and y labels\n",
    "plt.rc('xtick', labelsize=MEDIUM_SIZE)    # fontsize of the tick labels\n",
    "plt.rc('ytick', labelsize=MEDIUM_SIZE)    # fontsize of the tick labels\n",
    "plt.rc('legend', fontsize=SMALL_SIZE)    # legend fontsize\n",
    "plt.rc('figure', titlesize=BIGGER_SIZE)  # fontsize of the figure title"
   ]
  },
  {
   "cell_type": "markdown",
   "metadata": {},
   "source": [
    "# Build dataframes and dictionaries with GO terms"
   ]
  },
  {
   "cell_type": "code",
   "execution_count": null,
   "metadata": {},
   "outputs": [],
   "source": [
    "GO_slim_terms = {}\n",
    "GO_complete_terms = {}\n",
    "experiments = ['Fkh1 log', 'Fkh1 stat', 'Fkh2 log', 'Fkh2 stat']\n",
    "for exp in experiments:\n",
    "    \n",
    "    ### Read the slim terms\n",
    "    df_slim = pd.read_csv(\"../Tables/Panther/\"+exp+\" GO-slim biological process.txt\", header=5, sep=\"\\t\")\n",
    "    df_slim = df_slim.set_index(\"PANTHER GO-Slim Biological Process\")\n",
    "    df_slim.columns = [\"# genome-wide\",\"#\",\"Expected\",\n",
    "                  \"over/under\",\"enrichment\",\"raw P-value\", \"FDR\"]\n",
    "    \n",
    "    ### Read the complete terms\n",
    "    df_complete = pd.read_csv(\"../Tables/Panther/\"+exp+\" GO biological process complete.txt\", header=5, sep=\"\\t\")\n",
    "    df_complete = df_complete.set_index(\"GO biological process complete\")\n",
    "    df_complete.columns = [\"# genome-wide\",\"#\",\"Expected\",\n",
    "                  \"over/under\",\"enrichment\",\"raw P-value\", \"FDR\"]\n",
    "        \n",
    "    ### Store dataframes in dictionary\n",
    "    GO_slim_terms[exp] = df_slim\n",
    "    GO_complete_terms[exp] = df_complete"
   ]
  },
  {
   "cell_type": "markdown",
   "metadata": {},
   "source": [
    "# Significant GO-slim terms"
   ]
  },
  {
   "cell_type": "code",
   "execution_count": null,
   "metadata": {},
   "outputs": [],
   "source": [
    "for exp in experiments: \n",
    "    df = GO_slim_terms[exp]\n",
    "    \n",
    "    print(\"##### Significant GO-slim terms:\",exp,\"#####\")\n",
    "    display(df[df['FDR'] <= 0.05].sort_values('FDR',ascending=True))"
   ]
  },
  {
   "cell_type": "markdown",
   "metadata": {},
   "source": [
    "# Significant GO terms "
   ]
  },
  {
   "cell_type": "code",
   "execution_count": null,
   "metadata": {},
   "outputs": [],
   "source": [
    "for exp in experiments: \n",
    "    df = GO_complete_terms[exp]\n",
    "    \n",
    "    print(\"##### Significant GO complete terms:\",exp,\"#####\")\n",
    "    display(df[df['FDR'] <= 0.05].sort_values('FDR',ascending=True))"
   ]
  },
  {
   "cell_type": "markdown",
   "metadata": {},
   "source": [
    "# Group enriched terms per experiment"
   ]
  },
  {
   "cell_type": "markdown",
   "metadata": {},
   "source": [
    "## GO-slim terms"
   ]
  },
  {
   "cell_type": "code",
   "execution_count": null,
   "metadata": {},
   "outputs": [],
   "source": [
    "### Gather the data\n",
    "enriched_terms = {}\n",
    "all_enriched_slim_terms = []\n",
    "for exp in experiments:\n",
    "    df = GO_slim_terms[exp]\n",
    "    enriched_terms[exp] = df[df['FDR'] <= 0.05].sort_values('FDR',ascending=True).index.tolist()\n",
    "    all_enriched_slim_terms.extend(df[df['FDR'] <= 0.05].sort_values('FDR',ascending=True).index.tolist())\n",
    "\n",
    "all_enriched_slim_terms = sorted(list(set(all_enriched_slim_terms)))\n",
    "\n",
    "### Divide in groups\n",
    "d_enriched = {'all':[], 'fkh1':[], 'fkh2':[],\n",
    "              'log':[], 'stat':[],\n",
    "              'fkh1log':[], 'fkh1stat':[], 'fkh2log':[], 'fkh2stat':[],\n",
    "              'other':[]}\n",
    "for term in all_enriched_slim_terms:\n",
    "    occurence = []\n",
    "    for exp in experiments:\n",
    "        occurence.append(term in enriched_terms[exp])\n",
    "        \n",
    "    if all(occurence): \n",
    "        d_enriched['all'].append(term)\n",
    "    # fkh specific\n",
    "    elif all(occurence[0:2]) and not occurence[2] and not occurence[3]: \n",
    "        d_enriched['fkh1'].append(term)\n",
    "    elif all(occurence[2:4]) and not occurence[0] and not occurence[1]: \n",
    "        d_enriched['fkh2'].append(term)\n",
    "    # phase specific\n",
    "    elif occurence[0] and occurence[2] and not occurence[1] and not occurence[3]: \n",
    "        d_enriched['log'].append(term)\n",
    "    elif occurence[1] and occurence[3] and not occurence[0] and not occurence[2]: \n",
    "        d_enriched['stat'].append(term)\n",
    "    # experiment specific\n",
    "    elif occurence[0] and not occurence[1] and not occurence[2] and not occurence[3]: \n",
    "        d_enriched['fkh1log'].append(term)\n",
    "    elif occurence[1] and not occurence[0] and not occurence[2] and not occurence[3]: \n",
    "        d_enriched['fkh1stat'].append(term)\n",
    "    elif occurence[2] and not occurence[0] and not occurence[1] and not occurence[3]: \n",
    "        d_enriched['fkh2log'].append(term)\n",
    "    elif occurence[3] and not occurence[0] and not occurence[1] and not occurence[2]: \n",
    "        d_enriched['fkh2stat'].append(term)\n",
    "    # other\n",
    "    else: \n",
    "        d_enriched['other'].append(term)\n",
    "        \n",
    "display(pd.Series(d_enriched).to_frame())"
   ]
  },
  {
   "cell_type": "markdown",
   "metadata": {},
   "source": [
    "## GO complete terms"
   ]
  },
  {
   "cell_type": "code",
   "execution_count": null,
   "metadata": {},
   "outputs": [],
   "source": [
    "### Gather the data\n",
    "enriched_terms = {}\n",
    "all_enriched_complete_terms = []\n",
    "for exp in experiments:\n",
    "    df = GO_complete_terms[exp]\n",
    "    enriched_terms[exp] = df[df['FDR'] <= 0.05].sort_values('FDR',ascending=True).index.tolist()\n",
    "    all_enriched_complete_terms.extend(df[df['FDR'] <= 0.05].sort_values('FDR',ascending=True).index.tolist())\n",
    "\n",
    "all_enriched_complete_terms = sorted(list(set(all_enriched_complete_terms)))\n",
    "\n",
    "### Divide in groups\n",
    "d_enriched = {'all':[], 'fkh1':[], 'fkh2':[],\n",
    "              'log':[], 'stat':[],\n",
    "              'fkh1log':[], 'fkh1stat':[], 'fkh2log':[], 'fkh2stat':[],\n",
    "              'other':[]}\n",
    "for term in all_enriched_complete_terms:\n",
    "    occurence = []\n",
    "    for exp in experiments:\n",
    "        occurence.append(term in enriched_terms[exp])\n",
    "        \n",
    "    if all(occurence): \n",
    "        d_enriched['all'].append(term)\n",
    "    # fkh specific\n",
    "    elif all(occurence[0:2]) and not occurence[2] and not occurence[3]: \n",
    "        d_enriched['fkh1'].append(term)\n",
    "    elif all(occurence[2:4]) and not occurence[0] and not occurence[1]: \n",
    "        d_enriched['fkh2'].append(term)\n",
    "    # phase specific\n",
    "    elif occurence[0] and occurence[2] and not occurence[1] and not occurence[3]: \n",
    "        d_enriched['log'].append(term)\n",
    "    elif occurence[1] and occurence[3] and not occurence[0] and not occurence[2]: \n",
    "        d_enriched['stat'].append(term)\n",
    "    # experiment specific\n",
    "    elif occurence[0] and not occurence[1] and not occurence[2] and not occurence[3]: \n",
    "        d_enriched['fkh1log'].append(term)\n",
    "    elif occurence[1] and not occurence[0] and not occurence[2] and not occurence[3]: \n",
    "        d_enriched['fkh1stat'].append(term)\n",
    "    elif occurence[2] and not occurence[0] and not occurence[1] and not occurence[3]: \n",
    "        d_enriched['fkh2log'].append(term)\n",
    "    elif occurence[3] and not occurence[0] and not occurence[1] and not occurence[2]: \n",
    "        d_enriched['fkh2stat'].append(term)\n",
    "    # other\n",
    "    else: \n",
    "        d_enriched['other'].append(term)\n",
    "        \n",
    "display(pd.Series(d_enriched).to_frame())"
   ]
  },
  {
   "cell_type": "markdown",
   "metadata": {},
   "source": [
    "# Barplot of gene counts for selected GO-slim terms"
   ]
  },
  {
   "cell_type": "code",
   "execution_count": null,
   "metadata": {},
   "outputs": [],
   "source": [
    "### Gather the number of occurences for each process of interest\n",
    "target_counts = []\n",
    "index_interest = ['cell cycle (GO:0007049)','mitotic cell cycle (GO:0000278)',\n",
    "                  'chromosome segregation (GO:0007059)','nuclear chromosome segregation (GO:0098813)',\n",
    "                  'DNA metabolic process (GO:0006259)',\n",
    "                  'cell wall organization (GO:0071555)',\n",
    "                  'phospholipid metabolic process (GO:0006644)']\n",
    "\n",
    "for exp in experiments:\n",
    "    df = GO_complete_terms[exp]\n",
    "    target_counts.append(df.loc[index_interest]['#'].values)\n",
    "\n",
    "print(target_counts)\n",
    "\n",
    "### Make the plot\n",
    "y = sorted([i for i in range(len(index_interest))],reverse=True)\n",
    "\n",
    "fig = plt.figure()\n",
    "ax = plt.gca()\n",
    "\n",
    "a = 0.75\n",
    "for i in range(len(index_interest)):\n",
    "    f1log = ax.barh(y[i]+0.3, width=target_counts[0][i],height=0.2,color='b',align='center',alpha=a)\n",
    "    f1stat = ax.barh(y[i]+0.1, width=target_counts[1][i],height=0.2,color='g',align='center',alpha=a)\n",
    "    f2log = ax.barh(y[i]-0.1, width=target_counts[2][i],height=0.2,color='r',align='center',alpha=a)\n",
    "    f2stat = ax.barh(y[i]-0.3, width=target_counts[3][i],height=0.2,color='k',align='center',alpha=a)\n",
    "\n",
    "ax.set_xlabel('# of target genes')\n",
    "ax.set_yticks(y)\n",
    "ax.set_yticklabels(index_interest)\n",
    "ax.legend([f1log, f1stat, f2log, f2stat],['Fkh1 log','Fkh1 stat','Fkh2 log','Fkh2 stat'],loc=4)\n",
    "\n",
    "fig.set_size_inches(10,6)\n",
    "fig.savefig('../Figures/GO-slim_term_target_counts.png',bbox_inches='tight', dpi=300)\n",
    "\n",
    "plt.show()"
   ]
  },
  {
   "cell_type": "markdown",
   "metadata": {},
   "source": [
    "# Summary table for Supplementary information"
   ]
  },
  {
   "cell_type": "code",
   "execution_count": null,
   "metadata": {},
   "outputs": [],
   "source": [
    "df_tot = pd.DataFrame()\n",
    "for exp in experiments:\n",
    "    df = GO_complete_terms[exp]\n",
    "    \n",
    "    # only the FDR column\n",
    "    df = df['FDR'].to_frame()\n",
    "    df.columns = [exp+\" FDR\"]\n",
    "    \n",
    "    df_tot  = df_tot.merge(df, how='outer', left_index=True, right_index=True) # outer = union of indices\n",
    "\n",
    "df_tot.to_excel(\"../Tables/Panther/Panther_summary.xlsx\")"
   ]
  },
  {
   "cell_type": "code",
   "execution_count": null,
   "metadata": {},
   "outputs": [],
   "source": []
  }
 ],
 "metadata": {
  "kernelspec": {
   "display_name": "Python 3",
   "language": "python",
   "name": "python3"
  },
  "language_info": {
   "codemirror_mode": {
    "name": "ipython",
    "version": 3
   },
   "file_extension": ".py",
   "mimetype": "text/x-python",
   "name": "python",
   "nbconvert_exporter": "python",
   "pygments_lexer": "ipython3",
   "version": "3.6.1"
  },
  "toc": {
   "nav_menu": {},
   "number_sections": true,
   "sideBar": true,
   "skip_h1_title": false,
   "toc_cell": false,
   "toc_position": {
    "height": "638px",
    "left": "0px",
    "right": "1149px",
    "top": "111px",
    "width": "212px"
   },
   "toc_section_display": "block",
   "toc_window_display": true
  }
 },
 "nbformat": 4,
 "nbformat_minor": 2
}

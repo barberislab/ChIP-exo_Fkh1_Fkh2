{
 "cells": [
  {
   "cell_type": "code",
   "execution_count": null,
   "metadata": {},
   "outputs": [],
   "source": [
    "%load_ext autoreload\n",
    "%autoreload 2\n",
    "\n",
    "import pandas as pd\n",
    "from openpyxl import load_workbook\n",
    "pd.set_option('display.max_columns', None)\n",
    "pd.set_option('display.max_colwidth', -1)\n",
    "pd.set_option('display.max_rows', 500)\n",
    "\n",
    "%matplotlib inline\n",
    "import matplotlib.pyplot as plt\n",
    "\n",
    "# hack to get relative imports to work\n",
    "import sys\n",
    "sys.path.append(\"..\") # Adds higher directory to python modules path.\n",
    "from utils import utils\n",
    "from utils import venn"
   ]
  },
  {
   "cell_type": "code",
   "execution_count": null,
   "metadata": {},
   "outputs": [],
   "source": [
    "df = pd.read_pickle(\"../Data/df_ORF_condition_normalized\")"
   ]
  },
  {
   "cell_type": "markdown",
   "metadata": {},
   "source": [
    "# GEM (SNR >= 1) vs. MACE (p-value <= 0.01)"
   ]
  },
  {
   "cell_type": "code",
   "execution_count": null,
   "metadata": {},
   "outputs": [],
   "source": [
    "experiments = ['Fkh1 log','Fkh1 stat','Fkh2 log','Fkh2 stat']\n",
    "\n",
    "t = [1,0.01]\n",
    "\n",
    "for exp in experiments:\n",
    "    plt.clf()\n",
    "    labels = venn.get_labels([df[df['GEM '+exp]>=t[0]].index.values,\n",
    "                              df[df['MACE '+exp]<=t[1]].index.values],fill=['number'])\n",
    "\n",
    "    fig, ax = venn.venn2(labels, names=['GEM','MACE'], legend=True, size=25)\n",
    "    fig.show()\n",
    "    fig.savefig('../Figures/Venn_GEM_MACE_'+exp+'.png', bbox_inches='tight', dpi=300)\n",
    "    plt.clf()\n",
    "    \n",
    "    fig, ax = venn.venn2(labels, names=['GEM','MACE'], legend=False, size=25)\n",
    "    fig.savefig('../Figures/Venn_GEM_MACE_'+exp+'_NO_LEGEND.png', bbox_inches='tight', dpi=300)\n",
    "plt.clf()"
   ]
  },
  {
   "cell_type": "code",
   "execution_count": null,
   "metadata": {},
   "outputs": [],
   "source": []
  }
 ],
 "metadata": {
  "kernelspec": {
   "display_name": "Python 3",
   "language": "python",
   "name": "python3"
  },
  "language_info": {
   "codemirror_mode": {
    "name": "ipython",
    "version": 3
   },
   "file_extension": ".py",
   "mimetype": "text/x-python",
   "name": "python",
   "nbconvert_exporter": "python",
   "pygments_lexer": "ipython3",
   "version": "3.6.1"
  },
  "toc": {
   "nav_menu": {},
   "number_sections": true,
   "sideBar": true,
   "skip_h1_title": false,
   "toc_cell": false,
   "toc_position": {},
   "toc_section_display": "block",
   "toc_window_display": false
  }
 },
 "nbformat": 4,
 "nbformat_minor": 2
}
